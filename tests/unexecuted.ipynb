{
 "cells": [
  {
   "cell_type": "code",
   "execution_count": null,
   "id": "3cda8036",
   "metadata": {},
   "outputs": [],
   "source": [
    "print(\"this is cell one\")"
   ]
  },
  {
   "cell_type": "code",
   "execution_count": null,
   "id": "8e92aaad",
   "metadata": {},
   "outputs": [],
   "source": [
    "print(\"this is cell two\")"
   ]
  },
  {
   "cell_type": "code",
   "execution_count": null,
   "id": "1d93aea3",
   "metadata": {},
   "outputs": [],
   "source": [
    "print(\"this is cell three\")"
   ]
  },
  {
   "cell_type": "code",
   "execution_count": null,
   "id": "935f5a1f",
   "metadata": {},
   "outputs": [],
   "source": [
    "print(\"this is cell four\")"
   ]
  },
  {
   "cell_type": "code",
   "execution_count": null,
   "id": "99de0150",
   "metadata": {},
   "outputs": [],
   "source": [
    "print(\"this is cell five\")"
   ]
  }
 ],
 "metadata": {
  "kernelspec": {
   "display_name": "Python 3 (ipykernel)",
   "language": "python",
   "name": "python3"
  },
  "language_info": {
   "codemirror_mode": {
    "name": "ipython",
    "version": 3
   },
   "file_extension": ".py",
   "mimetype": "text/x-python",
   "name": "python",
   "nbconvert_exporter": "python",
   "pygments_lexer": "ipython3",
   "version": "3.8.10"
  }
 },
 "nbformat": 4,
 "nbformat_minor": 5
}
