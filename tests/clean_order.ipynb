{
 "cells": [
  {
   "cell_type": "code",
   "execution_count": 1,
   "id": "71d1990c",
   "metadata": {},
   "outputs": [
    {
     "name": "stdout",
     "output_type": "stream",
     "text": [
      "this is cell one\n"
     ]
    }
   ],
   "source": [
    "print(\"this is cell one\")"
   ]
  },
  {
   "cell_type": "code",
   "execution_count": 2,
   "id": "231876e4",
   "metadata": {},
   "outputs": [
    {
     "name": "stdout",
     "output_type": "stream",
     "text": [
      "this is cell cell two\n"
     ]
    }
   ],
   "source": [
    "print(\"this is cell cell two\")"
   ]
  },
  {
   "cell_type": "code",
   "execution_count": 3,
   "id": "3f136dd8",
   "metadata": {},
   "outputs": [
    {
     "name": "stdout",
     "output_type": "stream",
     "text": [
      "this is cell three\n"
     ]
    }
   ],
   "source": [
    "print(\"this is cell three\")"
   ]
  },
  {
   "cell_type": "code",
   "execution_count": 4,
   "id": "28ad9ad9",
   "metadata": {},
   "outputs": [
    {
     "name": "stdout",
     "output_type": "stream",
     "text": [
      "this is cell four\n"
     ]
    }
   ],
   "source": [
    "print(\"this is cell four\")"
   ]
  },
  {
   "cell_type": "code",
   "execution_count": 5,
   "id": "1c418aa9",
   "metadata": {},
   "outputs": [
    {
     "name": "stdout",
     "output_type": "stream",
     "text": [
      "this is cell five\n"
     ]
    }
   ],
   "source": [
    "print(\"this is cell five\")"
   ]
  }
 ],
 "metadata": {
  "kernelspec": {
   "display_name": "Python 3 (ipykernel)",
   "language": "python",
   "name": "python3"
  },
  "language_info": {
   "codemirror_mode": {
    "name": "ipython",
    "version": 3
   },
   "file_extension": ".py",
   "mimetype": "text/x-python",
   "name": "python",
   "nbconvert_exporter": "python",
   "pygments_lexer": "ipython3",
   "version": "3.8.10"
  }
 },
 "nbformat": 4,
 "nbformat_minor": 5
}
